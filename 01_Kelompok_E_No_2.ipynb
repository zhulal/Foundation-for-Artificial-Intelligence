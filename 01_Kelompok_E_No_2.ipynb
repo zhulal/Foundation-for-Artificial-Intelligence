{
  "nbformat": 4,
  "nbformat_minor": 0,
  "metadata": {
    "colab": {
      "provenance": []
    },
    "kernelspec": {
      "name": "python3",
      "display_name": "Python 3"
    },
    "language_info": {
      "name": "python"
    }
  },
  "cells": [
    {
      "cell_type": "markdown",
      "source": [
        "Paper Money: <br>\n",
        "1. Rp 100,000    \n",
        "2. Rp 50,000   \n",
        "3. Rp 20,000   \n",
        "4. Rp 10,000   \n",
        "5. Rp 5,000   \n",
        "6. Rp 2,000\n",
        "<br>\n",
        "<br>\n",
        "Coins: <br>\n",
        "1. Rp 1,000  \n",
        "2. Rp 500  \n",
        "3. Rp 200\n",
        "4. Rp 100  \n",
        "*To make it easier, we assume that all Rp. 1000 denominations are coins.\n",
        "\n",
        "There are circumstances where the bank must liquidate all customer savings in the form of money, if the customer requests it.\n",
        "And imagine this is happening right now in front of you, help the bank to calculate how many denominations of money are needed.\n",
        "\n",
        "Here is the rule:\n",
        "\n",
        "1. Bank must prioritize the largest denominations first to be issued.\n",
        "2. If there is a balance that cannot be cashed, the bank must inform it.\n",
        "3. Bank must calculate how many number of Paper Money needed and Coins needed.\n",
        "4. Banks can only disburse a maximum amount of 1 billion Rupiah\n",
        "\n",
        "\n",
        "\n",
        "Make a python code that receives an integer number of customer savings from 0 - 1 Billions.\n"
      ],
      "metadata": {
        "id": "v4yL2-lQ9B_E"
      }
    },
    {
      "cell_type": "code",
      "execution_count": null,
      "metadata": {
        "id": "BadZYYvyin7Y",
        "colab": {
          "base_uri": "https://localhost:8080/"
        },
        "outputId": "913fef07-34d6-466d-99fc-d96e289ee336"
      },
      "outputs": [
        {
          "output_type": "stream",
          "name": "stdout",
          "text": [
            "Input\n",
            ">> 1245123\n",
            "You entered: 1245123\n"
          ]
        }
      ],
      "source": [
        "try:\n",
        "    num = int(input(\"Input\\n>> \"))\n",
        "    print(\"You entered:\", num)\n",
        "\n",
        "except ValueError:\n",
        "    print(\"Please input a valid number\")"
      ]
    },
    {
      "cell_type": "code",
      "source": [
        "#Create the code here\n",
        "def cash_out(num):\n",
        "  #Daftar denominasi dalam urutan menurun\n",
        "  denominations = [100000, 50000, 20000, 10000, 5000, 2000, 1000, 500, 200, 100]\n",
        "\n",
        "  #Dictionary untuk menyimpan jumlah setiap denominasi\n",
        "  denomination_count = {denom: 0 for denom in denominations}\n",
        "\n",
        "  #Inisialisasi total untuk uang kertas dan koin\n",
        "  total_paper_money = 0\n",
        "  total_coins = 0\n",
        "\n",
        "  #Iterasi setiap denominasi dan hitung jml uang kertas/koin\n",
        "  for denom in denominations:\n",
        "      if num >= denom:\n",
        "        count = num // denom\n",
        "        denomination_count[denom] = count\n",
        "        num %= denom\n",
        "\n",
        "  #Hitung total uang kertas dan koin\n",
        "  for denom in denominations:\n",
        "      if denom >= 1000:\n",
        "        total_paper_money += denomination_count[denom]\n",
        "      else:\n",
        "        total_coins += denomination_count[denom]\n",
        "\n",
        "  #Output\n",
        "  for denom in denominations:\n",
        "      print(f\">> Amount of currency Rp {denom:,}: {denomination_count[denom]}\")\n",
        "\n",
        "  print(f\"\\n>> Total Paper Money: {total_paper_money}\")\n",
        "  print(f\">> Total Coins: {total_coins}\")\n",
        "  print(f\">> Cannot be cashed out: {num}\")\n",
        "\n",
        "try:\n",
        "  batas_maksimal = 1000000000\n",
        "  if num < 0:\n",
        "      print(\"Output\")\n",
        "      print(\">> Please input the correct number\")\n",
        "\n",
        "  elif num > batas_maksimal:\n",
        "      print(\"Output\")\n",
        "      print(f\">> Maximum Saving is {batas_maksimal}\")\n",
        "\n",
        "  else :\n",
        "      print(\"Output\")\n",
        "      cash_out(num)\n",
        "\n",
        "except NameError:\n",
        "    print(\"Please input a valid number\")"
      ],
      "metadata": {
        "colab": {
          "base_uri": "https://localhost:8080/"
        },
        "id": "jC9mLViZi169",
        "outputId": "638ac2f4-7cfc-461b-eac4-3ef17e7104ed"
      },
      "execution_count": null,
      "outputs": [
        {
          "output_type": "stream",
          "name": "stdout",
          "text": [
            "Output\n",
            ">> Amount of currency Rp 100,000: 12\n",
            ">> Amount of currency Rp 50,000: 0\n",
            ">> Amount of currency Rp 20,000: 2\n",
            ">> Amount of currency Rp 10,000: 0\n",
            ">> Amount of currency Rp 5,000: 1\n",
            ">> Amount of currency Rp 2,000: 0\n",
            ">> Amount of currency Rp 1,000: 0\n",
            ">> Amount of currency Rp 500: 0\n",
            ">> Amount of currency Rp 200: 0\n",
            ">> Amount of currency Rp 100: 1\n",
            "\n",
            ">> Total Paper Money: 15\n",
            ">> Total Coins: 1\n",
            ">> Cannot be cashed out: 23\n"
          ]
        }
      ]
    },
    {
      "cell_type": "code",
      "source": [],
      "metadata": {
        "id": "KbrnzVljfxj_"
      },
      "execution_count": null,
      "outputs": []
    }
  ]
}